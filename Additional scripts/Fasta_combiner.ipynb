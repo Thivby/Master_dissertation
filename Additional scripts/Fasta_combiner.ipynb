{
 "cells": [
  {
   "cell_type": "code",
   "execution_count": null,
   "metadata": {},
   "outputs": [],
   "source": [
    "# \n",
    "\n",
    "import pandas as pd\n",
    "import requests\n",
    "import os\n",
    "\n",
    "def fetch_fasta(uniprot_id):\n",
    "    \"\"\"Fetches the canonical FASTA sequence from UniProt.\"\"\"\n",
    "    url = f\"https://rest.uniprot.org/uniprotkb/{uniprot_id}.fasta\"\n",
    "    response = requests.get(url)\n",
    "    if response.status_code == 200:\n",
    "        return response.text\n",
    "    else:\n",
    "        print(f\"Failed to fetch {uniprot_id}. Status code: {response.status_code}\")\n",
    "        return None\n",
    "\n",
    "def read_fasta_from_file(file_path):\n",
    "    \"\"\"Reads a FASTA file from a local file path.\"\"\"\n",
    "    try:\n",
    "        with open(file_path, 'r') as f:\n",
    "            return f.read()\n",
    "    except FileNotFoundError:\n",
    "        print(f\"FASTA file not found: {file_path}\")\n",
    "        return None\n",
    "\n",
    "def save_fasta_combination(protein_of_interest_fasta, interactor_fasta, output_dir, poi_id, interactor_id):\n",
    "    \"\"\"Saves a combined FASTA file.\"\"\"\n",
    "    combined_fasta = protein_of_interest_fasta + \"\\n\" + interactor_fasta\n",
    "    file_path = os.path.join(output_dir, f\"{poi_id}_{interactor_id}.fasta\")\n",
    "    with open(file_path, 'w') as f:\n",
    "        f.write(combined_fasta)\n",
    "    print(f\"Saved {file_path}\")\n",
    "\n",
    "def generate_fasta_combinations(df, poi_fasta_path, accession_column='accession', output_dir='fasta_combinations'):\n",
    "    \"\"\"\n",
    "    Generates and saves combined FASTA files for each interactor.\n",
    "\n",
    "    Parameters:\n",
    "    - df (pd.DataFrame): A DataFrame containing protein interactors, with at least an accession column.\n",
    "    - poi_fasta_path (str): Path to the FASTA file for the protein of interest (e.g. LMCD1 module).\n",
    "    - accession_column (str): Name of the column in `df` that contains UniProt accession IDs. Default is 'accession'.\n",
    "    - output_dir (str): Directory where the combined FASTA files will be saved. Default is 'fasta_combinations'.\n",
    "    \"\"\"\n",
    "    \n",
    "    # Create output directory if it doesn't exist\n",
    "    os.makedirs(output_dir, exist_ok=True)\n",
    "\n",
    "    # Read protein of interest FASTA from file\n",
    "    protein_of_interest_fasta = read_fasta_from_file(poi_fasta_path)\n",
    "    if protein_of_interest_fasta is None:\n",
    "        print(\"Failed to read protein of interest FASTA file. Exiting...\")\n",
    "        return\n",
    "    \n",
    "    # Loop over interactors\n",
    "    for interactor_id in df[accession_column].dropna().unique():\n",
    "        interactor_fasta = fetch_fasta(interactor_id)\n",
    "        if interactor_fasta:\n",
    "            save_fasta_combination(protein_of_interest_fasta, interactor_fasta, output_dir, \"lmcd1_pet\", interactor_id)\n",
    "\n"
   ]
  },
  {
   "cell_type": "code",
   "execution_count": null,
   "metadata": {},
   "outputs": [],
   "source": [
    "file_path = r\"G:\\My Drive\\Uni\\Thesis\\Data\\datasets_cutoff\\final_results\\Stefano_EXT983_LMCD1_PET_processed_results.xlsx\"\n",
    "sheet_name = \"below_not_in_above\"\n",
    "\n",
    "df = pd.read_excel(file_path, sheet_name=sheet_name)"
   ]
  },
  {
   "cell_type": "code",
   "execution_count": 15,
   "metadata": {},
   "outputs": [
    {
     "name": "stdout",
     "output_type": "stream",
     "text": [
      "Failed to fetch P46940 . Status code: 400\n",
      "Saved G:\\My Drive\\Uni\\Thesis\\Data\\alphafold\\Fastas\\070225\\lmcd1_pet_P07437.fasta\n",
      "Failed to fetch Q9BUF5 . Status code: 400\n",
      "Failed to fetch P53621 . Status code: 400\n",
      "Failed to fetch Q01082 . Status code: 400\n",
      "Failed to fetch Q13813 . Status code: 400\n",
      "Failed to fetch P60660 . Status code: 400\n",
      "Failed to fetch Q9NR30 . Status code: 400\n",
      "Failed to fetch P08670 . Status code: 400\n",
      "Failed to fetch Q13347 . Status code: 400\n",
      "Failed to fetch P12814 . Status code: 400\n",
      "Failed to fetch Q13509 . Status code: 400\n",
      "Failed to fetch P55072 . Status code: 400\n",
      "Failed to fetch P21333 . Status code: 400\n",
      "Failed to fetch Q00610 . Status code: 400\n",
      "Failed to fetch Q99832 . Status code: 400\n"
     ]
    }
   ],
   "source": [
    "poi_fasta_path = r\"G:\\My Drive\\Uni\\Thesis\\Data\\alphafold\\Fastas\\lmcd1_pet.fasta\"\n",
    "generate_fasta_combinations(df, poi_fasta_path, output_dir=r\"G:\\My Drive\\Uni\\Thesis\\Data\\alphafold\\Fastas\\070225\")\n"
   ]
  },
  {
   "cell_type": "markdown",
   "metadata": {},
   "source": [
    "Version that stores all fastas in 1 file (for AlphaPulldown):"
   ]
  },
  {
   "cell_type": "code",
   "execution_count": 11,
   "metadata": {},
   "outputs": [],
   "source": [
    "\n",
    "file_path = r\"G:\\My Drive\\Uni\\Thesis\\Data\\datasets_cutoff\\final_results\\Stefano_EXT983_LMCD1_PET_processed_results.xlsx\"\n",
    "sheet_name = \"below_not_in_above\"\n",
    "\n",
    "df = pd.read_excel(file_path, sheet_name=sheet_name)"
   ]
  },
  {
   "cell_type": "code",
   "execution_count": null,
   "metadata": {},
   "outputs": [],
   "source": [
    "import pandas as pd\n",
    "import requests\n",
    "import os\n",
    "\n",
    "def generate_combined_fasta(df, accession_column='accession', output_file='combined_interactors.fasta'):\n",
    "    \"\"\"Fetches FASTA sequences for all interactors and saves them into a single file.\"\"\"\n",
    "    fasta_sequences = []\n",
    "\n",
    "    # Loop over unique interactors\n",
    "    for interactor_id in df[accession_column].dropna().unique():\n",
    "        interactor_fasta = fetch_fasta(interactor_id)\n",
    "        if interactor_fasta:\n",
    "            fasta_sequences.append(interactor_fasta)\n",
    "\n",
    "    # Write all sequences to a single file\n",
    "    if fasta_sequences:\n",
    "        with open(output_file, 'w') as f:\n",
    "            f.write(\"\\n\".join(fasta_sequences))\n",
    "        print(f\"Saved combined FASTA file: {output_file}\")\n",
    "    else:\n",
    "        print(\"No valid FASTA sequences retrieved.\")\n",
    "\n"
   ]
  },
  {
   "cell_type": "code",
   "execution_count": 18,
   "metadata": {},
   "outputs": [],
   "source": [
    "protlist = ['P46940', #16 protiens interacting with TES, DUX4 and LMCD1\n",
    "'P07437',\n",
    "'Q9BUF5',\n",
    "'P53621',\n",
    "'Q01082',\n",
    "'Q13813',\n",
    "'P60660',\n",
    "'Q9NR30',\n",
    "'P08670',\n",
    "'Q13347',\n",
    "'P12814',\n",
    "'Q13509',\n",
    "'P55072',\n",
    "'P21333',\n",
    "'Q00610',\n",
    "'Q99832']\n",
    "df = pd.DataFrame({\"accession\": protlist})"
   ]
  },
  {
   "cell_type": "code",
   "execution_count": null,
   "metadata": {},
   "outputs": [
    {
     "name": "stdout",
     "output_type": "stream",
     "text": [
      "Saved combined FASTA file: D:\\Fastas\\070225\\070225.fasta\n"
     ]
    }
   ],
   "source": [
    "generate_combined_fasta(df,  output_file=r\"D:\\Fastas\\070225\\070225.fasta\")"
   ]
  },
  {
   "cell_type": "code",
   "execution_count": null,
   "metadata": {},
   "outputs": [],
   "source": [
    "# Save fasta files for each interactor in a separate file\n",
    "import pandas as pd\n",
    "import requests\n",
    "import os\n",
    "\n",
    "def fetch_fasta(uniprot_id):\n",
    "    \"\"\"Fetches the canonical FASTA sequence from UniProt.\"\"\"\n",
    "    url = f\"https://rest.uniprot.org/uniprotkb/{uniprot_id}.fasta\"\n",
    "    response = requests.get(url)\n",
    "    if response.status_code == 200:\n",
    "        return response.text\n",
    "    else:\n",
    "        print(f\"Failed to fetch {uniprot_id}. Status code: {response.status_code}\")\n",
    "        return None\n",
    "\n",
    "def save_fasta_files(df, accession_column='accession', output_dir='fasta_sequences'):\n",
    "    \"\"\"Fetches FASTA sequences for all interactors and saves each to an individual file.\"\"\"\n",
    "    # Create output directory if it doesn't exist\n",
    "    os.makedirs(output_dir, exist_ok=True)\n",
    "\n",
    "    for interactor_id in df[accession_column].dropna().unique():\n",
    "        interactor_fasta = fetch_fasta(interactor_id)\n",
    "        if interactor_fasta:\n",
    "            file_path = os.path.join(output_dir, f\"{interactor_id}.fasta\")\n",
    "            with open(file_path, 'w') as f:\n",
    "                f.write(interactor_fasta)\n",
    "            print(f\"Saved FASTA file: {file_path}\")\n",
    "\n"
   ]
  },
  {
   "cell_type": "code",
   "execution_count": 7,
   "metadata": {},
   "outputs": [],
   "source": [
    "df = pd.read_excel(r\"G:\\My Drive\\Uni\\Thesis\\Data\\control_proteins.xlsx\")"
   ]
  },
  {
   "cell_type": "code",
   "execution_count": 8,
   "metadata": {},
   "outputs": [
    {
     "name": "stdout",
     "output_type": "stream",
     "text": [
      "Saved FASTA file: D:\\Fastas\\controls\\Q86V25.fasta\n",
      "Saved FASTA file: D:\\Fastas\\controls\\P23435.fasta\n",
      "Saved FASTA file: D:\\Fastas\\controls\\Q86Y78.fasta\n",
      "Saved FASTA file: D:\\Fastas\\controls\\Q99616.fasta\n",
      "Saved FASTA file: D:\\Fastas\\controls\\Q8N8Q3.fasta\n",
      "Saved FASTA file: D:\\Fastas\\controls\\Q9NWW9.fasta\n",
      "Saved FASTA file: D:\\Fastas\\controls\\P0C7P0.fasta\n",
      "Saved FASTA file: D:\\Fastas\\controls\\Q8WXC3.fasta\n",
      "Saved FASTA file: D:\\Fastas\\controls\\Q8IVL8.fasta\n",
      "Saved FASTA file: D:\\Fastas\\controls\\Q6UXV0.fasta\n",
      "Saved FASTA file: D:\\Fastas\\controls\\Q8N300.fasta\n",
      "Saved FASTA file: D:\\Fastas\\controls\\P62945.fasta\n",
      "Saved FASTA file: D:\\Fastas\\controls\\Q9BXJ8.fasta\n",
      "Saved FASTA file: D:\\Fastas\\controls\\P01850.fasta\n",
      "Saved FASTA file: D:\\Fastas\\controls\\P0DN84.fasta\n",
      "Saved FASTA file: D:\\Fastas\\controls\\Q9BW66.fasta\n",
      "Saved FASTA file: D:\\Fastas\\controls\\Q6ZNX1.fasta\n",
      "Saved FASTA file: D:\\Fastas\\controls\\P01861.fasta\n",
      "Saved FASTA file: D:\\Fastas\\controls\\Q9BVK8.fasta\n",
      "Saved FASTA file: D:\\Fastas\\controls\\Q8IXS2.fasta\n",
      "Saved FASTA file: D:\\Fastas\\controls\\Q8IU54.fasta\n",
      "Saved FASTA file: D:\\Fastas\\controls\\P01848.fasta\n",
      "Saved FASTA file: D:\\Fastas\\controls\\O95154.fasta\n",
      "Saved FASTA file: D:\\Fastas\\controls\\O75818.fasta\n",
      "Saved FASTA file: D:\\Fastas\\controls\\A6NGQ2.fasta\n",
      "Saved FASTA file: D:\\Fastas\\controls\\P01876.fasta\n",
      "Saved FASTA file: D:\\Fastas\\controls\\P01877.fasta\n",
      "Saved FASTA file: D:\\Fastas\\controls\\Q9NWU2.fasta\n",
      "Saved FASTA file: D:\\Fastas\\controls\\Q9BVM4.fasta\n",
      "Saved FASTA file: D:\\Fastas\\controls\\Q8IYS5.fasta\n",
      "Saved FASTA file: D:\\Fastas\\controls\\P01721.fasta\n",
      "Saved FASTA file: D:\\Fastas\\controls\\Q9BRV8.fasta\n",
      "Saved FASTA file: D:\\Fastas\\controls\\P55774.fasta\n",
      "Saved FASTA file: D:\\Fastas\\controls\\Q6UWY2.fasta\n",
      "Saved FASTA file: D:\\Fastas\\controls\\Q8N8R7.fasta\n",
      "Saved FASTA file: D:\\Fastas\\controls\\P57730.fasta\n",
      "Saved FASTA file: D:\\Fastas\\controls\\Q96P09.fasta\n",
      "Saved FASTA file: D:\\Fastas\\controls\\Q9P0R6.fasta\n",
      "Saved FASTA file: D:\\Fastas\\controls\\P28067.fasta\n",
      "Saved FASTA file: D:\\Fastas\\controls\\A6NI73.fasta\n",
      "Saved FASTA file: D:\\Fastas\\controls\\Q96Q77.fasta\n",
      "Saved FASTA file: D:\\Fastas\\controls\\Q6PI25.fasta\n",
      "Saved FASTA file: D:\\Fastas\\controls\\P01834.fasta\n",
      "Saved FASTA file: D:\\Fastas\\controls\\P30047.fasta\n",
      "Saved FASTA file: D:\\Fastas\\controls\\Q3KRA9.fasta\n",
      "Saved FASTA file: D:\\Fastas\\controls\\Q96E40.fasta\n",
      "Saved FASTA file: D:\\Fastas\\controls\\P15248.fasta\n",
      "Saved FASTA file: D:\\Fastas\\controls\\Q9H1A3.fasta\n",
      "Saved FASTA file: D:\\Fastas\\controls\\Q9NUN7.fasta\n",
      "Saved FASTA file: D:\\Fastas\\controls\\Q8WTQ1.fasta\n"
     ]
    }
   ],
   "source": [
    "save_fasta_files(df, output_dir=r\"D:\\Fastas\\controls\")"
   ]
  },
  {
   "cell_type": "markdown",
   "metadata": {},
   "source": [
    "Combine fasta files from a certain directory with a specified fasta file."
   ]
  },
  {
   "cell_type": "code",
   "execution_count": null,
   "metadata": {},
   "outputs": [],
   "source": [
    "import os\n",
    "\n",
    "def read_fasta(file_path):\n",
    "    \"\"\"Reads a FASTA file from a local file path.\"\"\"\n",
    "    try:\n",
    "        with open(file_path, 'r') as f:\n",
    "            return f.read()\n",
    "    except FileNotFoundError:\n",
    "        print(f\"FASTA file not found: {file_path}\")\n",
    "        return None\n",
    "\n",
    "def combine_fasta_files(poi_fasta_path, fasta_dir, output_dir):\n",
    "    \"\"\"Combines each FASTA file in the directory with the protein of interest FASTA.\"\"\"\n",
    "    # Get POI name from its file name (excluding extension)\n",
    "    poi_name = os.path.splitext(os.path.basename(poi_fasta_path))[0]\n",
    "\n",
    "    # Read the protein of interest (POI) FASTA file\n",
    "    poi_fasta = read_fasta(poi_fasta_path)\n",
    "    if poi_fasta is None:\n",
    "        print(\"Failed to read POI FASTA file. Exiting...\")\n",
    "        return\n",
    "\n",
    "    # Ensure output directory exists\n",
    "    os.makedirs(output_dir, exist_ok=True)\n",
    "\n",
    "    # Iterate through all FASTA files in the directory\n",
    "    for fasta_file in os.listdir(fasta_dir):\n",
    "        if fasta_file.endswith(\".fasta\") or fasta_file.endswith(\".fa\"):\n",
    "            fasta_path = os.path.join(fasta_dir, fasta_file)\n",
    "            interactor_fasta = read_fasta(fasta_path)\n",
    "            \n",
    "            if interactor_fasta:\n",
    "                # Create a combined FASTA content\n",
    "                combined_fasta = poi_fasta + \"\\n\" + interactor_fasta\n",
    "                \n",
    "                # Construct output file name: [POI]_[Interactor].fasta\n",
    "                interactor_name = os.path.splitext(fasta_file)[0]  # Remove extension\n",
    "                output_file_name = f\"{poi_name}_{interactor_name}.fasta\"\n",
    "                output_file_path = os.path.join(output_dir, output_file_name)\n",
    "                \n",
    "                # Save the combined FASTA\n",
    "                with open(output_file_path, 'w') as f:\n",
    "                    f.write(combined_fasta)\n",
    "                \n",
    "                print(f\"Saved combined FASTA: {output_file_path}\")"
   ]
  },
  {
   "cell_type": "code",
   "execution_count": 19,
   "metadata": {},
   "outputs": [
    {
     "name": "stdout",
     "output_type": "stream",
     "text": [
      "Saved combined FASTA: D:\\Fastas\\120525_dux4_notail_controls\\dux4_notail_A6NGQ2.fasta\n",
      "Saved combined FASTA: D:\\Fastas\\120525_dux4_notail_controls\\dux4_notail_A6NI73.fasta\n",
      "Saved combined FASTA: D:\\Fastas\\120525_dux4_notail_controls\\dux4_notail_O75818.fasta\n",
      "Saved combined FASTA: D:\\Fastas\\120525_dux4_notail_controls\\dux4_notail_O95154.fasta\n",
      "Saved combined FASTA: D:\\Fastas\\120525_dux4_notail_controls\\dux4_notail_P01721.fasta\n",
      "Saved combined FASTA: D:\\Fastas\\120525_dux4_notail_controls\\dux4_notail_P01834.fasta\n",
      "Saved combined FASTA: D:\\Fastas\\120525_dux4_notail_controls\\dux4_notail_P01848.fasta\n",
      "Saved combined FASTA: D:\\Fastas\\120525_dux4_notail_controls\\dux4_notail_P01850.fasta\n",
      "Saved combined FASTA: D:\\Fastas\\120525_dux4_notail_controls\\dux4_notail_P01861.fasta\n",
      "Saved combined FASTA: D:\\Fastas\\120525_dux4_notail_controls\\dux4_notail_P01876.fasta\n",
      "Saved combined FASTA: D:\\Fastas\\120525_dux4_notail_controls\\dux4_notail_P01877.fasta\n",
      "Saved combined FASTA: D:\\Fastas\\120525_dux4_notail_controls\\dux4_notail_P0C7P0.fasta\n",
      "Saved combined FASTA: D:\\Fastas\\120525_dux4_notail_controls\\dux4_notail_P0DN84.fasta\n",
      "Saved combined FASTA: D:\\Fastas\\120525_dux4_notail_controls\\dux4_notail_P15248.fasta\n",
      "Saved combined FASTA: D:\\Fastas\\120525_dux4_notail_controls\\dux4_notail_P23435.fasta\n",
      "Saved combined FASTA: D:\\Fastas\\120525_dux4_notail_controls\\dux4_notail_P28067.fasta\n",
      "Saved combined FASTA: D:\\Fastas\\120525_dux4_notail_controls\\dux4_notail_P30047.fasta\n",
      "Saved combined FASTA: D:\\Fastas\\120525_dux4_notail_controls\\dux4_notail_P55774.fasta\n",
      "Saved combined FASTA: D:\\Fastas\\120525_dux4_notail_controls\\dux4_notail_P57730.fasta\n",
      "Saved combined FASTA: D:\\Fastas\\120525_dux4_notail_controls\\dux4_notail_P62945.fasta\n",
      "Saved combined FASTA: D:\\Fastas\\120525_dux4_notail_controls\\dux4_notail_Q3KRA9.fasta\n",
      "Saved combined FASTA: D:\\Fastas\\120525_dux4_notail_controls\\dux4_notail_Q6PI25.fasta\n",
      "Saved combined FASTA: D:\\Fastas\\120525_dux4_notail_controls\\dux4_notail_Q6UWY2.fasta\n",
      "Saved combined FASTA: D:\\Fastas\\120525_dux4_notail_controls\\dux4_notail_Q6UXV0.fasta\n",
      "Saved combined FASTA: D:\\Fastas\\120525_dux4_notail_controls\\dux4_notail_Q6ZNX1.fasta\n",
      "Saved combined FASTA: D:\\Fastas\\120525_dux4_notail_controls\\dux4_notail_Q86V25.fasta\n",
      "Saved combined FASTA: D:\\Fastas\\120525_dux4_notail_controls\\dux4_notail_Q86Y78.fasta\n",
      "Saved combined FASTA: D:\\Fastas\\120525_dux4_notail_controls\\dux4_notail_Q8IU54.fasta\n",
      "Saved combined FASTA: D:\\Fastas\\120525_dux4_notail_controls\\dux4_notail_Q8IVL8.fasta\n",
      "Saved combined FASTA: D:\\Fastas\\120525_dux4_notail_controls\\dux4_notail_Q8IXS2.fasta\n",
      "Saved combined FASTA: D:\\Fastas\\120525_dux4_notail_controls\\dux4_notail_Q8IYS5.fasta\n",
      "Saved combined FASTA: D:\\Fastas\\120525_dux4_notail_controls\\dux4_notail_Q8N300.fasta\n",
      "Saved combined FASTA: D:\\Fastas\\120525_dux4_notail_controls\\dux4_notail_Q8N8Q3.fasta\n",
      "Saved combined FASTA: D:\\Fastas\\120525_dux4_notail_controls\\dux4_notail_Q8N8R7.fasta\n",
      "Saved combined FASTA: D:\\Fastas\\120525_dux4_notail_controls\\dux4_notail_Q8WTQ1.fasta\n",
      "Saved combined FASTA: D:\\Fastas\\120525_dux4_notail_controls\\dux4_notail_Q8WXC3.fasta\n",
      "Saved combined FASTA: D:\\Fastas\\120525_dux4_notail_controls\\dux4_notail_Q96E40.fasta\n",
      "Saved combined FASTA: D:\\Fastas\\120525_dux4_notail_controls\\dux4_notail_Q96P09.fasta\n",
      "Saved combined FASTA: D:\\Fastas\\120525_dux4_notail_controls\\dux4_notail_Q96Q77.fasta\n",
      "Saved combined FASTA: D:\\Fastas\\120525_dux4_notail_controls\\dux4_notail_Q99616.fasta\n",
      "Saved combined FASTA: D:\\Fastas\\120525_dux4_notail_controls\\dux4_notail_Q9BRV8.fasta\n",
      "Saved combined FASTA: D:\\Fastas\\120525_dux4_notail_controls\\dux4_notail_Q9BVK8.fasta\n",
      "Saved combined FASTA: D:\\Fastas\\120525_dux4_notail_controls\\dux4_notail_Q9BVM4.fasta\n",
      "Saved combined FASTA: D:\\Fastas\\120525_dux4_notail_controls\\dux4_notail_Q9BW66.fasta\n",
      "Saved combined FASTA: D:\\Fastas\\120525_dux4_notail_controls\\dux4_notail_Q9BXJ8.fasta\n",
      "Saved combined FASTA: D:\\Fastas\\120525_dux4_notail_controls\\dux4_notail_Q9H1A3.fasta\n",
      "Saved combined FASTA: D:\\Fastas\\120525_dux4_notail_controls\\dux4_notail_Q9NUN7.fasta\n",
      "Saved combined FASTA: D:\\Fastas\\120525_dux4_notail_controls\\dux4_notail_Q9NWU2.fasta\n",
      "Saved combined FASTA: D:\\Fastas\\120525_dux4_notail_controls\\dux4_notail_Q9NWW9.fasta\n",
      "Saved combined FASTA: D:\\Fastas\\120525_dux4_notail_controls\\dux4_notail_Q9P0R6.fasta\n"
     ]
    }
   ],
   "source": [
    "combine_fasta_files(r\"D:\\Fastas\\dux4_notail.fasta\", r\"D:\\Fastas\\controls\", r\"D:\\Fastas\\120525_dux4_notail_controls\")"
   ]
  },
  {
   "cell_type": "code",
   "execution_count": null,
   "metadata": {},
   "outputs": [],
   "source": []
  }
 ],
 "metadata": {
  "kernelspec": {
   "display_name": "Python 3",
   "language": "python",
   "name": "python3"
  },
  "language_info": {
   "codemirror_mode": {
    "name": "ipython",
    "version": 3
   },
   "file_extension": ".py",
   "mimetype": "text/x-python",
   "name": "python",
   "nbconvert_exporter": "python",
   "pygments_lexer": "ipython3",
   "version": "3.12.10"
  }
 },
 "nbformat": 4,
 "nbformat_minor": 2
}
